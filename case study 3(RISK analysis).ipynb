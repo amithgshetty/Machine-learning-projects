{
 "cells": [
  {
   "cell_type": "markdown",
   "metadata": {},
   "source": [
    "### Predicting Risky drivers for the insurance company\n",
    " - here the target is to find out whether the particular driver filed a particular case or not "
   ]
  },
  {
   "cell_type": "code",
   "execution_count": 2,
   "metadata": {},
   "outputs": [],
   "source": [
    "import warnings\n",
    "warnings.filterwarnings('ignore')\n",
    "import numpy as np\n",
    "import pandas as pd\n",
    "import scipy.stats as stats\n",
    "from scipy.stats import zscore\n",
    "import statsmodels.formula.api as smf\n",
    "import statsmodels.api as sm\n",
    "from sklearn.linear_model import LinearRegression,LogisticRegression\n",
    "from sklearn.model_selection import train_test_split,RandomizedSearchCV\n",
    "from sklearn.metrics import mean_squared_error,roc_auc_score,roc_curve,classification_report,confusion_matrix,accuracy_score\n",
    "from sklearn.linear_model import LassoCV,ridge,ElasticNetCV,ElasticNetCV\n",
    "from sklearn.feature_selection import RFE\n",
    "from mlxtend.feature_selection import sequential_feature_selector as SFS\n",
    "import matplotlib.pyplot as plt\n",
    "import seaborn as sns\n",
    "%matplotlib inline"
   ]
  },
  {
   "cell_type": "code",
   "execution_count": 3,
   "metadata": {},
   "outputs": [],
   "source": [
    "df=pd.read_csv('seguro_train.csv')"
   ]
  },
  {
   "cell_type": "code",
   "execution_count": 3,
   "metadata": {},
   "outputs": [
    {
     "data": {
      "text/html": [
       "<div>\n",
       "<style scoped>\n",
       "    .dataframe tbody tr th:only-of-type {\n",
       "        vertical-align: middle;\n",
       "    }\n",
       "\n",
       "    .dataframe tbody tr th {\n",
       "        vertical-align: top;\n",
       "    }\n",
       "\n",
       "    .dataframe thead th {\n",
       "        text-align: right;\n",
       "    }\n",
       "</style>\n",
       "<table border=\"1\" class=\"dataframe\">\n",
       "  <thead>\n",
       "    <tr style=\"text-align: right;\">\n",
       "      <th></th>\n",
       "      <th>id</th>\n",
       "      <th>target</th>\n",
       "      <th>ps_ind_01</th>\n",
       "      <th>ps_ind_02_cat</th>\n",
       "      <th>ps_ind_03</th>\n",
       "      <th>ps_ind_04_cat</th>\n",
       "      <th>ps_ind_05_cat</th>\n",
       "      <th>ps_ind_06_bin</th>\n",
       "      <th>ps_ind_07_bin</th>\n",
       "      <th>ps_ind_08_bin</th>\n",
       "      <th>...</th>\n",
       "      <th>ps_calc_11</th>\n",
       "      <th>ps_calc_12</th>\n",
       "      <th>ps_calc_13</th>\n",
       "      <th>ps_calc_14</th>\n",
       "      <th>ps_calc_15_bin</th>\n",
       "      <th>ps_calc_16_bin</th>\n",
       "      <th>ps_calc_17_bin</th>\n",
       "      <th>ps_calc_18_bin</th>\n",
       "      <th>ps_calc_19_bin</th>\n",
       "      <th>ps_calc_20_bin</th>\n",
       "    </tr>\n",
       "  </thead>\n",
       "  <tbody>\n",
       "    <tr>\n",
       "      <th>0</th>\n",
       "      <td>7</td>\n",
       "      <td>0</td>\n",
       "      <td>2</td>\n",
       "      <td>2</td>\n",
       "      <td>5</td>\n",
       "      <td>1</td>\n",
       "      <td>0</td>\n",
       "      <td>0</td>\n",
       "      <td>1</td>\n",
       "      <td>0</td>\n",
       "      <td>...</td>\n",
       "      <td>9</td>\n",
       "      <td>1</td>\n",
       "      <td>5</td>\n",
       "      <td>8</td>\n",
       "      <td>0</td>\n",
       "      <td>1</td>\n",
       "      <td>1</td>\n",
       "      <td>0</td>\n",
       "      <td>0</td>\n",
       "      <td>1</td>\n",
       "    </tr>\n",
       "    <tr>\n",
       "      <th>1</th>\n",
       "      <td>9</td>\n",
       "      <td>0</td>\n",
       "      <td>1</td>\n",
       "      <td>1</td>\n",
       "      <td>7</td>\n",
       "      <td>0</td>\n",
       "      <td>0</td>\n",
       "      <td>0</td>\n",
       "      <td>0</td>\n",
       "      <td>1</td>\n",
       "      <td>...</td>\n",
       "      <td>3</td>\n",
       "      <td>1</td>\n",
       "      <td>1</td>\n",
       "      <td>9</td>\n",
       "      <td>0</td>\n",
       "      <td>1</td>\n",
       "      <td>1</td>\n",
       "      <td>0</td>\n",
       "      <td>1</td>\n",
       "      <td>0</td>\n",
       "    </tr>\n",
       "    <tr>\n",
       "      <th>2</th>\n",
       "      <td>13</td>\n",
       "      <td>0</td>\n",
       "      <td>5</td>\n",
       "      <td>4</td>\n",
       "      <td>9</td>\n",
       "      <td>1</td>\n",
       "      <td>0</td>\n",
       "      <td>0</td>\n",
       "      <td>0</td>\n",
       "      <td>1</td>\n",
       "      <td>...</td>\n",
       "      <td>4</td>\n",
       "      <td>2</td>\n",
       "      <td>7</td>\n",
       "      <td>7</td>\n",
       "      <td>0</td>\n",
       "      <td>1</td>\n",
       "      <td>1</td>\n",
       "      <td>0</td>\n",
       "      <td>1</td>\n",
       "      <td>0</td>\n",
       "    </tr>\n",
       "    <tr>\n",
       "      <th>3</th>\n",
       "      <td>16</td>\n",
       "      <td>0</td>\n",
       "      <td>0</td>\n",
       "      <td>1</td>\n",
       "      <td>2</td>\n",
       "      <td>0</td>\n",
       "      <td>0</td>\n",
       "      <td>1</td>\n",
       "      <td>0</td>\n",
       "      <td>0</td>\n",
       "      <td>...</td>\n",
       "      <td>2</td>\n",
       "      <td>2</td>\n",
       "      <td>4</td>\n",
       "      <td>9</td>\n",
       "      <td>0</td>\n",
       "      <td>0</td>\n",
       "      <td>0</td>\n",
       "      <td>0</td>\n",
       "      <td>0</td>\n",
       "      <td>0</td>\n",
       "    </tr>\n",
       "    <tr>\n",
       "      <th>4</th>\n",
       "      <td>17</td>\n",
       "      <td>0</td>\n",
       "      <td>0</td>\n",
       "      <td>2</td>\n",
       "      <td>0</td>\n",
       "      <td>1</td>\n",
       "      <td>0</td>\n",
       "      <td>1</td>\n",
       "      <td>0</td>\n",
       "      <td>0</td>\n",
       "      <td>...</td>\n",
       "      <td>3</td>\n",
       "      <td>1</td>\n",
       "      <td>1</td>\n",
       "      <td>3</td>\n",
       "      <td>0</td>\n",
       "      <td>0</td>\n",
       "      <td>0</td>\n",
       "      <td>1</td>\n",
       "      <td>1</td>\n",
       "      <td>0</td>\n",
       "    </tr>\n",
       "  </tbody>\n",
       "</table>\n",
       "<p>5 rows × 59 columns</p>\n",
       "</div>"
      ],
      "text/plain": [
       "   id  target  ps_ind_01  ps_ind_02_cat  ps_ind_03  ps_ind_04_cat  \\\n",
       "0   7       0          2              2          5              1   \n",
       "1   9       0          1              1          7              0   \n",
       "2  13       0          5              4          9              1   \n",
       "3  16       0          0              1          2              0   \n",
       "4  17       0          0              2          0              1   \n",
       "\n",
       "   ps_ind_05_cat  ps_ind_06_bin  ps_ind_07_bin  ps_ind_08_bin  ...  \\\n",
       "0              0              0              1              0  ...   \n",
       "1              0              0              0              1  ...   \n",
       "2              0              0              0              1  ...   \n",
       "3              0              1              0              0  ...   \n",
       "4              0              1              0              0  ...   \n",
       "\n",
       "   ps_calc_11  ps_calc_12  ps_calc_13  ps_calc_14  ps_calc_15_bin  \\\n",
       "0           9           1           5           8               0   \n",
       "1           3           1           1           9               0   \n",
       "2           4           2           7           7               0   \n",
       "3           2           2           4           9               0   \n",
       "4           3           1           1           3               0   \n",
       "\n",
       "   ps_calc_16_bin  ps_calc_17_bin  ps_calc_18_bin  ps_calc_19_bin  \\\n",
       "0               1               1               0               0   \n",
       "1               1               1               0               1   \n",
       "2               1               1               0               1   \n",
       "3               0               0               0               0   \n",
       "4               0               0               1               1   \n",
       "\n",
       "   ps_calc_20_bin  \n",
       "0               1  \n",
       "1               0  \n",
       "2               0  \n",
       "3               0  \n",
       "4               0  \n",
       "\n",
       "[5 rows x 59 columns]"
      ]
     },
     "execution_count": 3,
     "metadata": {},
     "output_type": "execute_result"
    }
   ],
   "source": [
    "df.head()"
   ]
  },
  {
   "cell_type": "code",
   "execution_count": 5,
   "metadata": {},
   "outputs": [
    {
     "data": {
      "text/plain": [
       "(595212, 59)"
      ]
     },
     "execution_count": 5,
     "metadata": {},
     "output_type": "execute_result"
    }
   ],
   "source": [
    "df.shape"
   ]
  },
  {
   "cell_type": "code",
   "execution_count": 74,
   "metadata": {},
   "outputs": [
    {
     "data": {
      "text/plain": [
       "0.0    0.963552\n",
       "1.0    0.036448\n",
       "Name: target, dtype: float64"
      ]
     },
     "execution_count": 74,
     "metadata": {},
     "output_type": "execute_result"
    }
   ],
   "source": [
    "df['target'].value_counts(normalize=True)"
   ]
  },
  {
   "cell_type": "code",
   "execution_count": 6,
   "metadata": {},
   "outputs": [
    {
     "name": "stdout",
     "output_type": "stream",
     "text": [
      "<class 'pandas.core.frame.DataFrame'>\n",
      "RangeIndex: 595212 entries, 0 to 595211\n",
      "Data columns (total 59 columns):\n",
      "id                595212 non-null int64\n",
      "target            595212 non-null int64\n",
      "ps_ind_01         595212 non-null int64\n",
      "ps_ind_02_cat     595212 non-null int64\n",
      "ps_ind_03         595212 non-null int64\n",
      "ps_ind_04_cat     595212 non-null int64\n",
      "ps_ind_05_cat     595212 non-null int64\n",
      "ps_ind_06_bin     595212 non-null int64\n",
      "ps_ind_07_bin     595212 non-null int64\n",
      "ps_ind_08_bin     595212 non-null int64\n",
      "ps_ind_09_bin     595212 non-null int64\n",
      "ps_ind_10_bin     595212 non-null int64\n",
      "ps_ind_11_bin     595212 non-null int64\n",
      "ps_ind_12_bin     595212 non-null int64\n",
      "ps_ind_13_bin     595212 non-null int64\n",
      "ps_ind_14         595212 non-null int64\n",
      "ps_ind_15         595212 non-null int64\n",
      "ps_ind_16_bin     595212 non-null int64\n",
      "ps_ind_17_bin     595212 non-null int64\n",
      "ps_ind_18_bin     595212 non-null int64\n",
      "ps_reg_01         595212 non-null float64\n",
      "ps_reg_02         595212 non-null float64\n",
      "ps_reg_03         595212 non-null float64\n",
      "ps_car_01_cat     595212 non-null int64\n",
      "ps_car_02_cat     595212 non-null int64\n",
      "ps_car_03_cat     595212 non-null int64\n",
      "ps_car_04_cat     595212 non-null int64\n",
      "ps_car_05_cat     595212 non-null int64\n",
      "ps_car_06_cat     595212 non-null int64\n",
      "ps_car_07_cat     595212 non-null int64\n",
      "ps_car_08_cat     595212 non-null int64\n",
      "ps_car_09_cat     595212 non-null int64\n",
      "ps_car_10_cat     595212 non-null int64\n",
      "ps_car_11_cat     595212 non-null int64\n",
      "ps_car_11         595212 non-null int64\n",
      "ps_car_12         595212 non-null float64\n",
      "ps_car_13         595212 non-null float64\n",
      "ps_car_14         595212 non-null float64\n",
      "ps_car_15         595212 non-null float64\n",
      "ps_calc_01        595212 non-null float64\n",
      "ps_calc_02        595212 non-null float64\n",
      "ps_calc_03        595212 non-null float64\n",
      "ps_calc_04        595212 non-null int64\n",
      "ps_calc_05        595212 non-null int64\n",
      "ps_calc_06        595212 non-null int64\n",
      "ps_calc_07        595212 non-null int64\n",
      "ps_calc_08        595212 non-null int64\n",
      "ps_calc_09        595212 non-null int64\n",
      "ps_calc_10        595212 non-null int64\n",
      "ps_calc_11        595212 non-null int64\n",
      "ps_calc_12        595212 non-null int64\n",
      "ps_calc_13        595212 non-null int64\n",
      "ps_calc_14        595212 non-null int64\n",
      "ps_calc_15_bin    595212 non-null int64\n",
      "ps_calc_16_bin    595212 non-null int64\n",
      "ps_calc_17_bin    595212 non-null int64\n",
      "ps_calc_18_bin    595212 non-null int64\n",
      "ps_calc_19_bin    595212 non-null int64\n",
      "ps_calc_20_bin    595212 non-null int64\n",
      "dtypes: float64(10), int64(49)\n",
      "memory usage: 267.9 MB\n"
     ]
    }
   ],
   "source": [
    "df.info()"
   ]
  },
  {
   "cell_type": "code",
   "execution_count": 8,
   "metadata": {},
   "outputs": [
    {
     "data": {
      "text/plain": [
       "['ps_ind_02_cat',\n",
       " 'ps_ind_04_cat',\n",
       " 'ps_ind_05_cat',\n",
       " 'ps_car_01_cat',\n",
       " 'ps_car_02_cat',\n",
       " 'ps_car_04_cat',\n",
       " 'ps_car_06_cat',\n",
       " 'ps_car_07_cat',\n",
       " 'ps_car_08_cat',\n",
       " 'ps_car_09_cat',\n",
       " 'ps_car_10_cat',\n",
       " 'ps_car_11_cat']"
      ]
     },
     "execution_count": 8,
     "metadata": {},
     "output_type": "execute_result"
    }
   ],
   "source": [
    "#ro get the variables which are catogorical\n",
    "cat=[]\n",
    "List=list(df.columns)\n",
    "for i in List:\n",
    "    if i[-3:]=='cat':\n",
    "        cat.append(i)\n",
    "cat   "
   ]
  },
  {
   "cell_type": "code",
   "execution_count": 5,
   "metadata": {},
   "outputs": [],
   "source": [
    "cols=list(df.columns)\n",
    "df=np.where(df==-1,np.nan,df)\n",
    "df=pd.DataFrame(df,columns=cols)"
   ]
  },
  {
   "cell_type": "markdown",
   "metadata": {},
   "source": [
    "- we are doing this becuase there are some values equal to the -1 in the columsn and hence we are changing sl those values to the null values si that we can impute those values later "
   ]
  },
  {
   "cell_type": "code",
   "execution_count": 22,
   "metadata": {
    "collapsed": true
   },
   "outputs": [
    {
     "data": {
      "text/plain": [
       "id                0.000000\n",
       "target            0.000000\n",
       "ps_ind_01         0.000000\n",
       "ps_ind_02_cat     0.000363\n",
       "ps_ind_03         0.000000\n",
       "ps_ind_04_cat     0.000139\n",
       "ps_ind_05_cat     0.009760\n",
       "ps_ind_06_bin     0.000000\n",
       "ps_ind_07_bin     0.000000\n",
       "ps_ind_08_bin     0.000000\n",
       "ps_ind_09_bin     0.000000\n",
       "ps_ind_10_bin     0.000000\n",
       "ps_ind_11_bin     0.000000\n",
       "ps_ind_12_bin     0.000000\n",
       "ps_ind_13_bin     0.000000\n",
       "ps_ind_14         0.000000\n",
       "ps_ind_15         0.000000\n",
       "ps_ind_16_bin     0.000000\n",
       "ps_ind_17_bin     0.000000\n",
       "ps_ind_18_bin     0.000000\n",
       "ps_reg_01         0.000000\n",
       "ps_reg_02         0.000000\n",
       "ps_reg_03         0.181065\n",
       "ps_car_01_cat     0.000180\n",
       "ps_car_02_cat     0.000008\n",
       "ps_car_03_cat     0.690898\n",
       "ps_car_04_cat     0.000000\n",
       "ps_car_05_cat     0.447825\n",
       "ps_car_06_cat     0.000000\n",
       "ps_car_07_cat     0.019302\n",
       "ps_car_08_cat     0.000000\n",
       "ps_car_09_cat     0.000956\n",
       "ps_car_10_cat     0.000000\n",
       "ps_car_11_cat     0.000000\n",
       "ps_car_11         0.000008\n",
       "ps_car_12         0.000002\n",
       "ps_car_13         0.000000\n",
       "ps_car_14         0.071605\n",
       "ps_car_15         0.000000\n",
       "ps_calc_01        0.000000\n",
       "ps_calc_02        0.000000\n",
       "ps_calc_03        0.000000\n",
       "ps_calc_04        0.000000\n",
       "ps_calc_05        0.000000\n",
       "ps_calc_06        0.000000\n",
       "ps_calc_07        0.000000\n",
       "ps_calc_08        0.000000\n",
       "ps_calc_09        0.000000\n",
       "ps_calc_10        0.000000\n",
       "ps_calc_11        0.000000\n",
       "ps_calc_12        0.000000\n",
       "ps_calc_13        0.000000\n",
       "ps_calc_14        0.000000\n",
       "ps_calc_15_bin    0.000000\n",
       "ps_calc_16_bin    0.000000\n",
       "ps_calc_17_bin    0.000000\n",
       "ps_calc_18_bin    0.000000\n",
       "ps_calc_19_bin    0.000000\n",
       "ps_calc_20_bin    0.000000\n",
       "dtype: float64"
      ]
     },
     "execution_count": 22,
     "metadata": {},
     "output_type": "execute_result"
    }
   ],
   "source": [
    "null=df.isnull().sum()\n",
    "null/df.shape[0]"
   ]
  },
  {
   "cell_type": "markdown",
   "metadata": {},
   "source": [
    "- we can see that the car_03 and car_05 cat columns are having the highest missing values and hence we are dropping those columns"
   ]
  },
  {
   "cell_type": "code",
   "execution_count": 6,
   "metadata": {},
   "outputs": [],
   "source": [
    "df.drop(['ps_car_03_cat','ps_car_05_cat'],1,inplace=True)"
   ]
  },
  {
   "cell_type": "code",
   "execution_count": 9,
   "metadata": {},
   "outputs": [],
   "source": [
    "df[cat]=df[cat].fillna(df[cat].mode().iloc[0])#we are using the iloc here because to capture tha max occurence of the value in the columnns"
   ]
  },
  {
   "cell_type": "code",
   "execution_count": 10,
   "metadata": {},
   "outputs": [],
   "source": [
    "df=df.fillna(method='ffill')"
   ]
  },
  {
   "cell_type": "code",
   "execution_count": 29,
   "metadata": {},
   "outputs": [
    {
     "data": {
      "text/html": [
       "<div>\n",
       "<style scoped>\n",
       "    .dataframe tbody tr th:only-of-type {\n",
       "        vertical-align: middle;\n",
       "    }\n",
       "\n",
       "    .dataframe tbody tr th {\n",
       "        vertical-align: top;\n",
       "    }\n",
       "\n",
       "    .dataframe thead th {\n",
       "        text-align: right;\n",
       "    }\n",
       "</style>\n",
       "<table border=\"1\" class=\"dataframe\">\n",
       "  <thead>\n",
       "    <tr style=\"text-align: right;\">\n",
       "      <th></th>\n",
       "      <th>id</th>\n",
       "      <th>target</th>\n",
       "      <th>ps_ind_01</th>\n",
       "      <th>ps_ind_02_cat</th>\n",
       "      <th>ps_ind_03</th>\n",
       "      <th>ps_ind_04_cat</th>\n",
       "      <th>ps_ind_05_cat</th>\n",
       "      <th>ps_ind_06_bin</th>\n",
       "      <th>ps_ind_07_bin</th>\n",
       "      <th>ps_ind_08_bin</th>\n",
       "      <th>...</th>\n",
       "      <th>ps_calc_11</th>\n",
       "      <th>ps_calc_12</th>\n",
       "      <th>ps_calc_13</th>\n",
       "      <th>ps_calc_14</th>\n",
       "      <th>ps_calc_15_bin</th>\n",
       "      <th>ps_calc_16_bin</th>\n",
       "      <th>ps_calc_17_bin</th>\n",
       "      <th>ps_calc_18_bin</th>\n",
       "      <th>ps_calc_19_bin</th>\n",
       "      <th>ps_calc_20_bin</th>\n",
       "    </tr>\n",
       "  </thead>\n",
       "  <tbody>\n",
       "    <tr>\n",
       "      <th>count</th>\n",
       "      <td>5.952120e+05</td>\n",
       "      <td>595212.000000</td>\n",
       "      <td>595212.000000</td>\n",
       "      <td>595212.000000</td>\n",
       "      <td>595212.000000</td>\n",
       "      <td>595212.000000</td>\n",
       "      <td>595212.000000</td>\n",
       "      <td>595212.000000</td>\n",
       "      <td>595212.000000</td>\n",
       "      <td>595212.000000</td>\n",
       "      <td>...</td>\n",
       "      <td>595212.000000</td>\n",
       "      <td>595212.000000</td>\n",
       "      <td>595212.000000</td>\n",
       "      <td>595212.000000</td>\n",
       "      <td>595212.000000</td>\n",
       "      <td>595212.000000</td>\n",
       "      <td>595212.000000</td>\n",
       "      <td>595212.000000</td>\n",
       "      <td>595212.000000</td>\n",
       "      <td>595212.000000</td>\n",
       "    </tr>\n",
       "    <tr>\n",
       "      <th>mean</th>\n",
       "      <td>7.438036e+05</td>\n",
       "      <td>0.036448</td>\n",
       "      <td>1.900378</td>\n",
       "      <td>1.359668</td>\n",
       "      <td>4.423318</td>\n",
       "      <td>0.416934</td>\n",
       "      <td>0.414948</td>\n",
       "      <td>0.393742</td>\n",
       "      <td>0.257033</td>\n",
       "      <td>0.163921</td>\n",
       "      <td>...</td>\n",
       "      <td>5.441382</td>\n",
       "      <td>1.441918</td>\n",
       "      <td>2.872288</td>\n",
       "      <td>7.539026</td>\n",
       "      <td>0.122427</td>\n",
       "      <td>0.627840</td>\n",
       "      <td>0.554182</td>\n",
       "      <td>0.287182</td>\n",
       "      <td>0.349024</td>\n",
       "      <td>0.153318</td>\n",
       "    </tr>\n",
       "    <tr>\n",
       "      <th>std</th>\n",
       "      <td>4.293678e+05</td>\n",
       "      <td>0.187401</td>\n",
       "      <td>1.983789</td>\n",
       "      <td>0.663108</td>\n",
       "      <td>2.699902</td>\n",
       "      <td>0.493052</td>\n",
       "      <td>1.344050</td>\n",
       "      <td>0.488579</td>\n",
       "      <td>0.436998</td>\n",
       "      <td>0.370205</td>\n",
       "      <td>...</td>\n",
       "      <td>2.332871</td>\n",
       "      <td>1.202963</td>\n",
       "      <td>1.694887</td>\n",
       "      <td>2.746652</td>\n",
       "      <td>0.327779</td>\n",
       "      <td>0.483381</td>\n",
       "      <td>0.497056</td>\n",
       "      <td>0.452447</td>\n",
       "      <td>0.476662</td>\n",
       "      <td>0.360295</td>\n",
       "    </tr>\n",
       "    <tr>\n",
       "      <th>min</th>\n",
       "      <td>7.000000e+00</td>\n",
       "      <td>0.000000</td>\n",
       "      <td>0.000000</td>\n",
       "      <td>1.000000</td>\n",
       "      <td>0.000000</td>\n",
       "      <td>0.000000</td>\n",
       "      <td>0.000000</td>\n",
       "      <td>0.000000</td>\n",
       "      <td>0.000000</td>\n",
       "      <td>0.000000</td>\n",
       "      <td>...</td>\n",
       "      <td>0.000000</td>\n",
       "      <td>0.000000</td>\n",
       "      <td>0.000000</td>\n",
       "      <td>0.000000</td>\n",
       "      <td>0.000000</td>\n",
       "      <td>0.000000</td>\n",
       "      <td>0.000000</td>\n",
       "      <td>0.000000</td>\n",
       "      <td>0.000000</td>\n",
       "      <td>0.000000</td>\n",
       "    </tr>\n",
       "    <tr>\n",
       "      <th>25%</th>\n",
       "      <td>3.719915e+05</td>\n",
       "      <td>0.000000</td>\n",
       "      <td>0.000000</td>\n",
       "      <td>1.000000</td>\n",
       "      <td>2.000000</td>\n",
       "      <td>0.000000</td>\n",
       "      <td>0.000000</td>\n",
       "      <td>0.000000</td>\n",
       "      <td>0.000000</td>\n",
       "      <td>0.000000</td>\n",
       "      <td>...</td>\n",
       "      <td>4.000000</td>\n",
       "      <td>1.000000</td>\n",
       "      <td>2.000000</td>\n",
       "      <td>6.000000</td>\n",
       "      <td>0.000000</td>\n",
       "      <td>0.000000</td>\n",
       "      <td>0.000000</td>\n",
       "      <td>0.000000</td>\n",
       "      <td>0.000000</td>\n",
       "      <td>0.000000</td>\n",
       "    </tr>\n",
       "    <tr>\n",
       "      <th>50%</th>\n",
       "      <td>7.435475e+05</td>\n",
       "      <td>0.000000</td>\n",
       "      <td>1.000000</td>\n",
       "      <td>1.000000</td>\n",
       "      <td>4.000000</td>\n",
       "      <td>0.000000</td>\n",
       "      <td>0.000000</td>\n",
       "      <td>0.000000</td>\n",
       "      <td>0.000000</td>\n",
       "      <td>0.000000</td>\n",
       "      <td>...</td>\n",
       "      <td>5.000000</td>\n",
       "      <td>1.000000</td>\n",
       "      <td>3.000000</td>\n",
       "      <td>7.000000</td>\n",
       "      <td>0.000000</td>\n",
       "      <td>1.000000</td>\n",
       "      <td>1.000000</td>\n",
       "      <td>0.000000</td>\n",
       "      <td>0.000000</td>\n",
       "      <td>0.000000</td>\n",
       "    </tr>\n",
       "    <tr>\n",
       "      <th>75%</th>\n",
       "      <td>1.115549e+06</td>\n",
       "      <td>0.000000</td>\n",
       "      <td>3.000000</td>\n",
       "      <td>2.000000</td>\n",
       "      <td>6.000000</td>\n",
       "      <td>1.000000</td>\n",
       "      <td>0.000000</td>\n",
       "      <td>1.000000</td>\n",
       "      <td>1.000000</td>\n",
       "      <td>0.000000</td>\n",
       "      <td>...</td>\n",
       "      <td>7.000000</td>\n",
       "      <td>2.000000</td>\n",
       "      <td>4.000000</td>\n",
       "      <td>9.000000</td>\n",
       "      <td>0.000000</td>\n",
       "      <td>1.000000</td>\n",
       "      <td>1.000000</td>\n",
       "      <td>1.000000</td>\n",
       "      <td>1.000000</td>\n",
       "      <td>0.000000</td>\n",
       "    </tr>\n",
       "    <tr>\n",
       "      <th>max</th>\n",
       "      <td>1.488027e+06</td>\n",
       "      <td>1.000000</td>\n",
       "      <td>7.000000</td>\n",
       "      <td>4.000000</td>\n",
       "      <td>11.000000</td>\n",
       "      <td>1.000000</td>\n",
       "      <td>6.000000</td>\n",
       "      <td>1.000000</td>\n",
       "      <td>1.000000</td>\n",
       "      <td>1.000000</td>\n",
       "      <td>...</td>\n",
       "      <td>19.000000</td>\n",
       "      <td>10.000000</td>\n",
       "      <td>13.000000</td>\n",
       "      <td>23.000000</td>\n",
       "      <td>1.000000</td>\n",
       "      <td>1.000000</td>\n",
       "      <td>1.000000</td>\n",
       "      <td>1.000000</td>\n",
       "      <td>1.000000</td>\n",
       "      <td>1.000000</td>\n",
       "    </tr>\n",
       "  </tbody>\n",
       "</table>\n",
       "<p>8 rows × 57 columns</p>\n",
       "</div>"
      ],
      "text/plain": [
       "                 id         target      ps_ind_01  ps_ind_02_cat  \\\n",
       "count  5.952120e+05  595212.000000  595212.000000  595212.000000   \n",
       "mean   7.438036e+05       0.036448       1.900378       1.359668   \n",
       "std    4.293678e+05       0.187401       1.983789       0.663108   \n",
       "min    7.000000e+00       0.000000       0.000000       1.000000   \n",
       "25%    3.719915e+05       0.000000       0.000000       1.000000   \n",
       "50%    7.435475e+05       0.000000       1.000000       1.000000   \n",
       "75%    1.115549e+06       0.000000       3.000000       2.000000   \n",
       "max    1.488027e+06       1.000000       7.000000       4.000000   \n",
       "\n",
       "           ps_ind_03  ps_ind_04_cat  ps_ind_05_cat  ps_ind_06_bin  \\\n",
       "count  595212.000000  595212.000000  595212.000000  595212.000000   \n",
       "mean        4.423318       0.416934       0.414948       0.393742   \n",
       "std         2.699902       0.493052       1.344050       0.488579   \n",
       "min         0.000000       0.000000       0.000000       0.000000   \n",
       "25%         2.000000       0.000000       0.000000       0.000000   \n",
       "50%         4.000000       0.000000       0.000000       0.000000   \n",
       "75%         6.000000       1.000000       0.000000       1.000000   \n",
       "max        11.000000       1.000000       6.000000       1.000000   \n",
       "\n",
       "       ps_ind_07_bin  ps_ind_08_bin  ...     ps_calc_11     ps_calc_12  \\\n",
       "count  595212.000000  595212.000000  ...  595212.000000  595212.000000   \n",
       "mean        0.257033       0.163921  ...       5.441382       1.441918   \n",
       "std         0.436998       0.370205  ...       2.332871       1.202963   \n",
       "min         0.000000       0.000000  ...       0.000000       0.000000   \n",
       "25%         0.000000       0.000000  ...       4.000000       1.000000   \n",
       "50%         0.000000       0.000000  ...       5.000000       1.000000   \n",
       "75%         1.000000       0.000000  ...       7.000000       2.000000   \n",
       "max         1.000000       1.000000  ...      19.000000      10.000000   \n",
       "\n",
       "          ps_calc_13     ps_calc_14  ps_calc_15_bin  ps_calc_16_bin  \\\n",
       "count  595212.000000  595212.000000   595212.000000   595212.000000   \n",
       "mean        2.872288       7.539026        0.122427        0.627840   \n",
       "std         1.694887       2.746652        0.327779        0.483381   \n",
       "min         0.000000       0.000000        0.000000        0.000000   \n",
       "25%         2.000000       6.000000        0.000000        0.000000   \n",
       "50%         3.000000       7.000000        0.000000        1.000000   \n",
       "75%         4.000000       9.000000        0.000000        1.000000   \n",
       "max        13.000000      23.000000        1.000000        1.000000   \n",
       "\n",
       "       ps_calc_17_bin  ps_calc_18_bin  ps_calc_19_bin  ps_calc_20_bin  \n",
       "count   595212.000000   595212.000000   595212.000000   595212.000000  \n",
       "mean         0.554182        0.287182        0.349024        0.153318  \n",
       "std          0.497056        0.452447        0.476662        0.360295  \n",
       "min          0.000000        0.000000        0.000000        0.000000  \n",
       "25%          0.000000        0.000000        0.000000        0.000000  \n",
       "50%          1.000000        0.000000        0.000000        0.000000  \n",
       "75%          1.000000        1.000000        1.000000        0.000000  \n",
       "max          1.000000        1.000000        1.000000        1.000000  \n",
       "\n",
       "[8 rows x 57 columns]"
      ]
     },
     "execution_count": 29,
     "metadata": {},
     "output_type": "execute_result"
    }
   ],
   "source": [
    "df.describe()"
   ]
  },
  {
   "cell_type": "markdown",
   "metadata": {},
   "source": [
    "## Exploratory Data Analysis- Bivariate"
   ]
  },
  {
   "cell_type": "code",
   "execution_count": 31,
   "metadata": {},
   "outputs": [
    {
     "data": {
      "image/png": "[encoded data removed]",
      "text/plain": [
       "<Figure size 432x288 with 1 Axes>"
      ]
     },
     "metadata": {
      "needs_background": "light"
     },
     "output_type": "display_data"
    }
   ],
   "source": [
    "#ps_ind_06 (bin vs bin)\n",
    "sns.countplot(x='ps_ind_06_bin',hue='target',data=df)\n",
    "plt.show()"
   ]
  },
  {
   "cell_type": "code",
   "execution_count": 36,
   "metadata": {},
   "outputs": [
    {
     "data": {
      "image/png": "[encoded data removed]",
      "text/plain": [
       "<Figure size 432x288 with 1 Axes>"
      ]
     },
     "metadata": {
      "needs_background": "light"
     },
     "output_type": "display_data"
    }
   ],
   "source": [
    "pd.crosstab(df['target'],df['ps_ind_06_bin'],normalize=1).T.plot(kind='bar',stacked=True)\n",
    "plt.ylim(0.8,1) ## this is used to limit the y scale\n",
    "plt.show()"
   ]
  },
  {
   "cell_type": "markdown",
   "metadata": {},
   "source": [
    "### ps_calc_01(bin vs continous)"
   ]
  },
  {
   "cell_type": "code",
   "execution_count": 37,
   "metadata": {},
   "outputs": [
    {
     "data": {
      "image/png": "[encoded data removed]",
      "text/plain": [
       "<Figure size 432x288 with 1 Axes>"
      ]
     },
     "metadata": {
      "needs_background": "light"
     },
     "output_type": "display_data"
    }
   ],
   "source": [
    "sns.barplot(x='target',y='ps_calc_01',data=df)\n",
    "plt.show()"
   ]
  },
  {
   "cell_type": "markdown",
   "metadata": {},
   "source": [
    "### ps_car_13 (bin vs continous)"
   ]
  },
  {
   "cell_type": "code",
   "execution_count": 38,
   "metadata": {},
   "outputs": [
    {
     "data": {
      "image/png": "[encoded data removed]",
      "text/plain": [
       "<Figure size 432x288 with 1 Axes>"
      ]
     },
     "metadata": {
      "needs_background": "light"
     },
     "output_type": "display_data"
    }
   ],
   "source": [
    "sns.barplot(x='target',y='ps_car_13',data=df)\n",
    "plt.show()"
   ]
  },
  {
   "cell_type": "code",
   "execution_count": 39,
   "metadata": {},
   "outputs": [
    {
     "data": {
      "image/png": "[encoded data removed]",
      "text/plain": [
       "<Figure size 432x288 with 1 Axes>"
      ]
     },
     "metadata": {
      "needs_background": "light"
     },
     "output_type": "display_data"
    }
   ],
   "source": [
    "sns.boxplot(x='target',y='ps_car_13',data=df)\n",
    "plt.show()"
   ]
  },
  {
   "cell_type": "code",
   "execution_count": 43,
   "metadata": {},
   "outputs": [
    {
     "data": {
      "image/png": "[encoded data removed]",
      "text/plain": [
       "<Figure size 720x360 with 1 Axes>"
      ]
     },
     "metadata": {
      "needs_background": "light"
     },
     "output_type": "display_data"
    }
   ],
   "source": [
    "plt.figure(figsize=(10,5))\n",
    "df0=df[df['target']==0]['ps_car_13']\n",
    "df1=df[df['target']==1]['ps_car_13']\n",
    "sns.distplot(df0,color='g',hist=False,kde_kws={'shade':True})\n",
    "sns.distplot(df1,color='r',hist=False,kde_kws={'shade':True})\n",
    "plt.show()"
   ]
  },
  {
   "cell_type": "markdown",
   "metadata": {},
   "source": [
    "### ps_car_04_cat (bin vs categorical)"
   ]
  },
  {
   "cell_type": "code",
   "execution_count": 44,
   "metadata": {},
   "outputs": [
    {
     "data": {
      "image/png": "[encoded data removed]",
      "text/plain": [
       "<Figure size 432x288 with 1 Axes>"
      ]
     },
     "metadata": {
      "needs_background": "light"
     },
     "output_type": "display_data"
    }
   ],
   "source": [
    "sns.countplot(x='ps_car_04_cat',hue='target',data=df)\n",
    "plt.show()"
   ]
  },
  {
   "cell_type": "code",
   "execution_count": 50,
   "metadata": {},
   "outputs": [
    {
     "data": {
      "image/png": "[encoded data removed]",
      "text/plain": [
       "<Figure size 1080x432 with 1 Axes>"
      ]
     },
     "metadata": {
      "needs_background": "light"
     },
     "output_type": "display_data"
    }
   ],
   "source": [
    "plt.figure(figsize=(15,6))\n",
    "sns.barplot(x='ps_car_04_cat',y='target',data=df,ci=0)\n",
    "plt.show()"
   ]
  },
  {
   "cell_type": "markdown",
   "metadata": {},
   "source": [
    "- the above plot is showing us the proportion of the number of ones among the differnt categories in the particular column, since the target variables is comprised of 0 and 1 which in turn is the mean proprotion of the 1 among the categories.\n",
    "- the proportion of target variable 1 for category 4 is 0.05(5%) which is the leat risky among others and category 7 is having the high risk factor since the proportion of one is 0.15 i,e (15%) among the rest."
   ]
  },
  {
   "cell_type": "markdown",
   "metadata": {},
   "source": [
    "### lets check for the number of categories in each variable "
   ]
  },
  {
   "cell_type": "code",
   "execution_count": 53,
   "metadata": {},
   "outputs": [
    {
     "name": "stdout",
     "output_type": "stream",
     "text": [
      "NUmber of Categories:  ps_ind_02_cat 4\n",
      "NUmber of Categories:  ps_ind_04_cat 2\n",
      "NUmber of Categories:  ps_ind_05_cat 7\n",
      "NUmber of Categories:  ps_car_01_cat 12\n",
      "NUmber of Categories:  ps_car_02_cat 2\n",
      "NUmber of Categories:  ps_car_04_cat 10\n",
      "NUmber of Categories:  ps_car_06_cat 18\n",
      "NUmber of Categories:  ps_car_07_cat 2\n",
      "NUmber of Categories:  ps_car_08_cat 2\n",
      "NUmber of Categories:  ps_car_09_cat 5\n",
      "NUmber of Categories:  ps_car_10_cat 3\n",
      "NUmber of Categories:  ps_car_11_cat 104\n"
     ]
    }
   ],
   "source": [
    "for i in cat:\n",
    "    print('NUmber of Categories: ',i,df[i].nunique())"
   ]
  },
  {
   "cell_type": "markdown",
   "metadata": {},
   "source": [
    "- lets use target encoder for variable ps_Car_11_cat since it has 104 categories and one hot encoding is not efficient for the same"
   ]
  },
  {
   "cell_type": "code",
   "execution_count": 11,
   "metadata": {},
   "outputs": [],
   "source": [
    "from category_encoders import TargetEncoder"
   ]
  },
  {
   "cell_type": "code",
   "execution_count": 12,
   "metadata": {},
   "outputs": [],
   "source": [
    "enc=TargetEncoder(cols=['ps_car_11_cat'])"
   ]
  },
  {
   "cell_type": "code",
   "execution_count": 14,
   "metadata": {},
   "outputs": [],
   "source": [
    "y=df[['target']]\n",
    "x=df.drop(['target','id'],1)\n",
    "x=enc.fit_transform(x,y)"
   ]
  },
  {
   "cell_type": "code",
   "execution_count": 59,
   "metadata": {},
   "outputs": [
    {
     "data": {
      "text/html": [
       "<div>\n",
       "<style scoped>\n",
       "    .dataframe tbody tr th:only-of-type {\n",
       "        vertical-align: middle;\n",
       "    }\n",
       "\n",
       "    .dataframe tbody tr th {\n",
       "        vertical-align: top;\n",
       "    }\n",
       "\n",
       "    .dataframe thead th {\n",
       "        text-align: right;\n",
       "    }\n",
       "</style>\n",
       "<table border=\"1\" class=\"dataframe\">\n",
       "  <thead>\n",
       "    <tr style=\"text-align: right;\">\n",
       "      <th></th>\n",
       "      <th>ps_ind_01</th>\n",
       "      <th>ps_ind_02_cat</th>\n",
       "      <th>ps_ind_03</th>\n",
       "      <th>ps_ind_04_cat</th>\n",
       "      <th>ps_ind_05_cat</th>\n",
       "      <th>ps_ind_06_bin</th>\n",
       "      <th>ps_ind_07_bin</th>\n",
       "      <th>ps_ind_08_bin</th>\n",
       "      <th>ps_ind_09_bin</th>\n",
       "      <th>ps_ind_10_bin</th>\n",
       "      <th>...</th>\n",
       "      <th>ps_calc_11</th>\n",
       "      <th>ps_calc_12</th>\n",
       "      <th>ps_calc_13</th>\n",
       "      <th>ps_calc_14</th>\n",
       "      <th>ps_calc_15_bin</th>\n",
       "      <th>ps_calc_16_bin</th>\n",
       "      <th>ps_calc_17_bin</th>\n",
       "      <th>ps_calc_18_bin</th>\n",
       "      <th>ps_calc_19_bin</th>\n",
       "      <th>ps_calc_20_bin</th>\n",
       "    </tr>\n",
       "  </thead>\n",
       "  <tbody>\n",
       "    <tr>\n",
       "      <th>0</th>\n",
       "      <td>2.0</td>\n",
       "      <td>2.0</td>\n",
       "      <td>5.0</td>\n",
       "      <td>1.0</td>\n",
       "      <td>0.0</td>\n",
       "      <td>0.0</td>\n",
       "      <td>1.0</td>\n",
       "      <td>0.0</td>\n",
       "      <td>0.0</td>\n",
       "      <td>0.0</td>\n",
       "      <td>...</td>\n",
       "      <td>9.0</td>\n",
       "      <td>1.0</td>\n",
       "      <td>5.0</td>\n",
       "      <td>8.0</td>\n",
       "      <td>0.0</td>\n",
       "      <td>1.0</td>\n",
       "      <td>1.0</td>\n",
       "      <td>0.0</td>\n",
       "      <td>0.0</td>\n",
       "      <td>1.0</td>\n",
       "    </tr>\n",
       "    <tr>\n",
       "      <th>1</th>\n",
       "      <td>1.0</td>\n",
       "      <td>1.0</td>\n",
       "      <td>7.0</td>\n",
       "      <td>0.0</td>\n",
       "      <td>0.0</td>\n",
       "      <td>0.0</td>\n",
       "      <td>0.0</td>\n",
       "      <td>1.0</td>\n",
       "      <td>0.0</td>\n",
       "      <td>0.0</td>\n",
       "      <td>...</td>\n",
       "      <td>3.0</td>\n",
       "      <td>1.0</td>\n",
       "      <td>1.0</td>\n",
       "      <td>9.0</td>\n",
       "      <td>0.0</td>\n",
       "      <td>1.0</td>\n",
       "      <td>1.0</td>\n",
       "      <td>0.0</td>\n",
       "      <td>1.0</td>\n",
       "      <td>0.0</td>\n",
       "    </tr>\n",
       "    <tr>\n",
       "      <th>2</th>\n",
       "      <td>5.0</td>\n",
       "      <td>4.0</td>\n",
       "      <td>9.0</td>\n",
       "      <td>1.0</td>\n",
       "      <td>0.0</td>\n",
       "      <td>0.0</td>\n",
       "      <td>0.0</td>\n",
       "      <td>1.0</td>\n",
       "      <td>0.0</td>\n",
       "      <td>0.0</td>\n",
       "      <td>...</td>\n",
       "      <td>4.0</td>\n",
       "      <td>2.0</td>\n",
       "      <td>7.0</td>\n",
       "      <td>7.0</td>\n",
       "      <td>0.0</td>\n",
       "      <td>1.0</td>\n",
       "      <td>1.0</td>\n",
       "      <td>0.0</td>\n",
       "      <td>1.0</td>\n",
       "      <td>0.0</td>\n",
       "    </tr>\n",
       "    <tr>\n",
       "      <th>3</th>\n",
       "      <td>0.0</td>\n",
       "      <td>1.0</td>\n",
       "      <td>2.0</td>\n",
       "      <td>0.0</td>\n",
       "      <td>0.0</td>\n",
       "      <td>1.0</td>\n",
       "      <td>0.0</td>\n",
       "      <td>0.0</td>\n",
       "      <td>0.0</td>\n",
       "      <td>0.0</td>\n",
       "      <td>...</td>\n",
       "      <td>2.0</td>\n",
       "      <td>2.0</td>\n",
       "      <td>4.0</td>\n",
       "      <td>9.0</td>\n",
       "      <td>0.0</td>\n",
       "      <td>0.0</td>\n",
       "      <td>0.0</td>\n",
       "      <td>0.0</td>\n",
       "      <td>0.0</td>\n",
       "      <td>0.0</td>\n",
       "    </tr>\n",
       "    <tr>\n",
       "      <th>4</th>\n",
       "      <td>0.0</td>\n",
       "      <td>2.0</td>\n",
       "      <td>0.0</td>\n",
       "      <td>1.0</td>\n",
       "      <td>0.0</td>\n",
       "      <td>1.0</td>\n",
       "      <td>0.0</td>\n",
       "      <td>0.0</td>\n",
       "      <td>0.0</td>\n",
       "      <td>0.0</td>\n",
       "      <td>...</td>\n",
       "      <td>3.0</td>\n",
       "      <td>1.0</td>\n",
       "      <td>1.0</td>\n",
       "      <td>3.0</td>\n",
       "      <td>0.0</td>\n",
       "      <td>0.0</td>\n",
       "      <td>0.0</td>\n",
       "      <td>1.0</td>\n",
       "      <td>1.0</td>\n",
       "      <td>0.0</td>\n",
       "    </tr>\n",
       "  </tbody>\n",
       "</table>\n",
       "<p>5 rows × 55 columns</p>\n",
       "</div>"
      ],
      "text/plain": [
       "   ps_ind_01  ps_ind_02_cat  ps_ind_03  ps_ind_04_cat  ps_ind_05_cat  \\\n",
       "0        2.0            2.0        5.0            1.0            0.0   \n",
       "1        1.0            1.0        7.0            0.0            0.0   \n",
       "2        5.0            4.0        9.0            1.0            0.0   \n",
       "3        0.0            1.0        2.0            0.0            0.0   \n",
       "4        0.0            2.0        0.0            1.0            0.0   \n",
       "\n",
       "   ps_ind_06_bin  ps_ind_07_bin  ps_ind_08_bin  ps_ind_09_bin  ps_ind_10_bin  \\\n",
       "0            0.0            1.0            0.0            0.0            0.0   \n",
       "1            0.0            0.0            1.0            0.0            0.0   \n",
       "2            0.0            0.0            1.0            0.0            0.0   \n",
       "3            1.0            0.0            0.0            0.0            0.0   \n",
       "4            1.0            0.0            0.0            0.0            0.0   \n",
       "\n",
       "   ...  ps_calc_11  ps_calc_12  ps_calc_13  ps_calc_14  ps_calc_15_bin  \\\n",
       "0  ...         9.0         1.0         5.0         8.0             0.0   \n",
       "1  ...         3.0         1.0         1.0         9.0             0.0   \n",
       "2  ...         4.0         2.0         7.0         7.0             0.0   \n",
       "3  ...         2.0         2.0         4.0         9.0             0.0   \n",
       "4  ...         3.0         1.0         1.0         3.0             0.0   \n",
       "\n",
       "   ps_calc_16_bin  ps_calc_17_bin  ps_calc_18_bin  ps_calc_19_bin  \\\n",
       "0             1.0             1.0             0.0             0.0   \n",
       "1             1.0             1.0             0.0             1.0   \n",
       "2             1.0             1.0             0.0             1.0   \n",
       "3             0.0             0.0             0.0             0.0   \n",
       "4             0.0             0.0             1.0             1.0   \n",
       "\n",
       "   ps_calc_20_bin  \n",
       "0             1.0  \n",
       "1             0.0  \n",
       "2             0.0  \n",
       "3             0.0  \n",
       "4             0.0  \n",
       "\n",
       "[5 rows x 55 columns]"
      ]
     },
     "execution_count": 59,
     "metadata": {},
     "output_type": "execute_result"
    }
   ],
   "source": [
    "x.head()"
   ]
  },
  {
   "cell_type": "code",
   "execution_count": 61,
   "metadata": {},
   "outputs": [
    {
     "data": {
      "text/plain": [
       "0    0.038642\n",
       "1    0.023936\n",
       "2    0.031281\n",
       "3    0.045015\n",
       "4    0.026266\n",
       "Name: ps_car_11_cat, dtype: float64"
      ]
     },
     "execution_count": 61,
     "metadata": {},
     "output_type": "execute_result"
    }
   ],
   "source": [
    "x['ps_car_11_cat'].head()"
   ]
  },
  {
   "cell_type": "code",
   "execution_count": 15,
   "metadata": {},
   "outputs": [],
   "source": [
    "cat.remove('ps_car_11_cat')"
   ]
  },
  {
   "cell_type": "code",
   "execution_count": 65,
   "metadata": {},
   "outputs": [
    {
     "data": {
      "text/plain": [
       "['ps_ind_02_cat',\n",
       " 'ps_ind_04_cat',\n",
       " 'ps_ind_05_cat',\n",
       " 'ps_car_01_cat',\n",
       " 'ps_car_02_cat',\n",
       " 'ps_car_04_cat',\n",
       " 'ps_car_06_cat',\n",
       " 'ps_car_07_cat',\n",
       " 'ps_car_08_cat',\n",
       " 'ps_car_09_cat',\n",
       " 'ps_car_10_cat']"
      ]
     },
     "execution_count": 65,
     "metadata": {},
     "output_type": "execute_result"
    }
   ],
   "source": [
    "cat"
   ]
  },
  {
   "cell_type": "code",
   "execution_count": 16,
   "metadata": {},
   "outputs": [],
   "source": [
    "x=pd.get_dummies(x,columns=cat,drop_first=True)"
   ]
  },
  {
   "cell_type": "code",
   "execution_count": 67,
   "metadata": {},
   "outputs": [
    {
     "data": {
      "text/plain": [
       "(595212, 100)"
      ]
     },
     "execution_count": 67,
     "metadata": {},
     "output_type": "execute_result"
    }
   ],
   "source": [
    "x.shape"
   ]
  },
  {
   "cell_type": "markdown",
   "metadata": {},
   "source": [
    "### Checking for outliers"
   ]
  },
  {
   "cell_type": "code",
   "execution_count": 18,
   "metadata": {},
   "outputs": [
    {
     "name": "stdout",
     "output_type": "stream",
     "text": [
      "The dataset contains 201640 observations with more than 2 outliers\n"
     ]
    }
   ],
   "source": [
    "from collections import Counter\n",
    "def outliers(df):\n",
    "    outliers_indices=[]\n",
    "    for i in df.columns.tolist():\n",
    "        #1st quartile(25%)\n",
    "        q1=df[i].quantile(.25)\n",
    "        #3rd quartile(75%)\n",
    "        q3=df[i].quantile(.75)\n",
    "        #interquantile range(IQR)\n",
    "        IQR=q3-q1\n",
    "        #outlier step\n",
    "        outlier=1.5*IQR\n",
    "        #outlier_features\n",
    "        outlier_list_col=df[(df[i]<q1-outlier)|(df[i]>q3+outlier)].index\n",
    "        #adding the found outlier observation into the list\n",
    "        outliers_indices.extend(outlier_list_col)\n",
    "    \n",
    "    #counting the number of outliers found in the process\n",
    "    count_indices = Counter(outliers_indices)   #this returns the dictionary of the count of outliers found in the indices     \n",
    "    multiple_outliers = list( k for k, v in count_indices.items() if v > 2 )\n",
    "        \n",
    "    return multiple_outliers\n",
    "\n",
    "print('The dataset contains %d observations with more than 2 outliers' %(len(outliers(df))))  "
   ]
  },
  {
   "cell_type": "markdown",
   "metadata": {},
   "source": [
    "- we can see that thers a lot of outliers which needs to be removed and now lets remove it "
   ]
  },
  {
   "cell_type": "code",
   "execution_count": 19,
   "metadata": {},
   "outputs": [
    {
     "name": "stdout",
     "output_type": "stream",
     "text": [
      "(393572, 57)\n"
     ]
    }
   ],
   "source": [
    "df1=df.copy()\n",
    "outlier_indices=outliers(df1)\n",
    "df1 = df1.drop(outlier_indices).reset_index(drop=True)\n",
    "print(df1.shape)"
   ]
  },
  {
   "cell_type": "code",
   "execution_count": 27,
   "metadata": {},
   "outputs": [],
   "source": [
    "y=df1[['target']]\n",
    "x=df1.drop(['target','id'],1)"
   ]
  },
  {
   "cell_type": "markdown",
   "metadata": {},
   "source": [
    "### visualizing using the decision tree"
   ]
  },
  {
   "cell_type": "code",
   "execution_count": 23,
   "metadata": {},
   "outputs": [
    {
     "data": {
      "text/plain": [
       "DecisionTreeClassifier(ccp_alpha=0.0, class_weight=None, criterion='gini',\n",
       "                       max_depth=5, max_features=None, max_leaf_nodes=10,\n",
       "                       min_impurity_decrease=0.0, min_impurity_split=None,\n",
       "                       min_samples_leaf=1, min_samples_split=2,\n",
       "                       min_weight_fraction_leaf=0.0, presort='deprecated',\n",
       "                       random_state=1, splitter='best')"
      ]
     },
     "execution_count": 23,
     "metadata": {},
     "output_type": "execute_result"
    }
   ],
   "source": [
    "from sklearn.tree import DecisionTreeClassifier as DTC\n",
    "dtc=DTC(random_state=1,max_depth=5,max_leaf_nodes=10)\n",
    "dtc.fit(x,y)"
   ]
  },
  {
   "cell_type": "code",
   "execution_count": 126,
   "metadata": {},
   "outputs": [
    {
     "data": {
      "image/png": "[encoded data removed]",
      "text/plain": [
       "<IPython.core.display.Image object>"
      ]
     },
     "execution_count": 126,
     "metadata": {},
     "output_type": "execute_result"
    }
   ],
   "source": [
    "from IPython.display import Image \n",
    "from sklearn.externals.six import StringIO\n",
    "from sklearn.tree import export_graphviz\n",
    "import pydotplus \n",
    "dot_data=export_graphviz(dtc,out_file=None,feature_names=x1.columns)\n",
    "graph=pydotplus.graph_from_dot_data(dot_data)\n",
    "Image(graph.create_png())"
   ]
  },
  {
   "cell_type": "markdown",
   "metadata": {},
   "source": [
    "### statistical model"
   ]
  },
  {
   "cell_type": "code",
   "execution_count": 28,
   "metadata": {},
   "outputs": [],
   "source": [
    "x=x.drop(['ps_ind_06_bin','ps_ind_10_bin'],1)  # we are dropping these columns becuase it was resulting in the infinite values in the logit model"
   ]
  },
  {
   "cell_type": "code",
   "execution_count": 29,
   "metadata": {
    "scrolled": false
   },
   "outputs": [
    {
     "name": "stdout",
     "output_type": "stream",
     "text": [
      "Warning: Maximum number of iterations has been exceeded.\n",
      "         Current function value: 0.084677\n",
      "         Iterations: 35\n"
     ]
    },
    {
     "name": "stderr",
     "output_type": "stream",
     "text": [
      "H:\\anaconda\\lib\\site-packages\\statsmodels\\base\\model.py:512: ConvergenceWarning: Maximum Likelihood optimization failed to converge. Check mle_retvals\n",
      "  \"Check mle_retvals\", ConvergenceWarning)\n"
     ]
    },
    {
     "data": {
      "text/html": [
       "<table class=\"simpletable\">\n",
       "<caption>Logit Regression Results</caption>\n",
       "<tr>\n",
       "  <th>Dep. Variable:</th>        <td>target</td>      <th>  No. Observations:  </th>  <td>393572</td> \n",
       "</tr>\n",
       "<tr>\n",
       "  <th>Model:</th>                 <td>Logit</td>      <th>  Df Residuals:      </th>  <td>393518</td> \n",
       "</tr>\n",
       "<tr>\n",
       "  <th>Method:</th>                 <td>MLE</td>       <th>  Df Model:          </th>  <td>    53</td> \n",
       "</tr>\n",
       "<tr>\n",
       "  <th>Date:</th>            <td>Fri, 10 Jan 2020</td> <th>  Pseudo R-squ.:     </th>  <td>0.03466</td>\n",
       "</tr>\n",
       "<tr>\n",
       "  <th>Time:</th>                <td>18:00:11</td>     <th>  Log-Likelihood:    </th> <td> -33327.</td>\n",
       "</tr>\n",
       "<tr>\n",
       "  <th>converged:</th>             <td>False</td>      <th>  LL-Null:           </th> <td> -34523.</td>\n",
       "</tr>\n",
       "<tr>\n",
       "  <th>Covariance Type:</th>     <td>nonrobust</td>    <th>  LLR p-value:       </th>  <td> 0.000</td> \n",
       "</tr>\n",
       "</table>\n",
       "<table class=\"simpletable\">\n",
       "<tr>\n",
       "         <td></td>           <th>coef</th>     <th>std err</th>      <th>z</th>      <th>P>|z|</th>  <th>[0.025</th>    <th>0.975]</th>  \n",
       "</tr>\n",
       "<tr>\n",
       "  <th>const</th>          <td>   -8.2067</td> <td>    0.352</td> <td>  -23.304</td> <td> 0.000</td> <td>   -8.897</td> <td>   -7.516</td>\n",
       "</tr>\n",
       "<tr>\n",
       "  <th>ps_ind_01</th>      <td>    0.0111</td> <td>    0.008</td> <td>    1.453</td> <td> 0.146</td> <td>   -0.004</td> <td>    0.026</td>\n",
       "</tr>\n",
       "<tr>\n",
       "  <th>ps_ind_02_cat</th>  <td>    0.0008</td> <td>    0.020</td> <td>    0.039</td> <td> 0.969</td> <td>   -0.039</td> <td>    0.041</td>\n",
       "</tr>\n",
       "<tr>\n",
       "  <th>ps_ind_03</th>      <td>   -0.0082</td> <td>    0.005</td> <td>   -1.643</td> <td> 0.100</td> <td>   -0.018</td> <td>    0.002</td>\n",
       "</tr>\n",
       "<tr>\n",
       "  <th>ps_ind_04_cat</th>  <td>    0.0699</td> <td>    0.028</td> <td>    2.471</td> <td> 0.013</td> <td>    0.014</td> <td>    0.125</td>\n",
       "</tr>\n",
       "<tr>\n",
       "  <th>ps_ind_05_cat</th>  <td>   -0.0876</td> <td>    0.012</td> <td>   -7.054</td> <td> 0.000</td> <td>   -0.112</td> <td>   -0.063</td>\n",
       "</tr>\n",
       "<tr>\n",
       "  <th>ps_ind_07_bin</th>  <td>    0.1911</td> <td>    0.034</td> <td>    5.690</td> <td> 0.000</td> <td>    0.125</td> <td>    0.257</td>\n",
       "</tr>\n",
       "<tr>\n",
       "  <th>ps_ind_08_bin</th>  <td>   -0.5687</td> <td>    0.050</td> <td>  -11.434</td> <td> 0.000</td> <td>   -0.666</td> <td>   -0.471</td>\n",
       "</tr>\n",
       "<tr>\n",
       "  <th>ps_ind_09_bin</th>  <td>   -0.6982</td> <td>    0.044</td> <td>  -15.942</td> <td> 0.000</td> <td>   -0.784</td> <td>   -0.612</td>\n",
       "</tr>\n",
       "<tr>\n",
       "  <th>ps_ind_11_bin</th>  <td>   -0.6046</td> <td> 2.43e+04</td> <td>-2.49e-05</td> <td> 1.000</td> <td>-4.76e+04</td> <td> 4.76e+04</td>\n",
       "</tr>\n",
       "<tr>\n",
       "  <th>ps_ind_12_bin</th>  <td>   -6.3390</td> <td> 4.08e+04</td> <td>   -0.000</td> <td> 1.000</td> <td>-8.01e+04</td> <td> 8.01e+04</td>\n",
       "</tr>\n",
       "<tr>\n",
       "  <th>ps_ind_13_bin</th>  <td>   -1.6310</td> <td> 3.84e+04</td> <td>-4.25e-05</td> <td> 1.000</td> <td>-7.53e+04</td> <td> 7.53e+04</td>\n",
       "</tr>\n",
       "<tr>\n",
       "  <th>ps_ind_14</th>      <td>  -16.7045</td> <td> 2.12e+04</td> <td>   -0.001</td> <td> 0.999</td> <td>-4.16e+04</td> <td> 4.15e+04</td>\n",
       "</tr>\n",
       "<tr>\n",
       "  <th>ps_ind_15</th>      <td>   -0.0283</td> <td>    0.004</td> <td>   -6.908</td> <td> 0.000</td> <td>   -0.036</td> <td>   -0.020</td>\n",
       "</tr>\n",
       "<tr>\n",
       "  <th>ps_ind_16_bin</th>  <td>    0.0003</td> <td>    0.047</td> <td>    0.006</td> <td> 0.995</td> <td>   -0.092</td> <td>    0.092</td>\n",
       "</tr>\n",
       "<tr>\n",
       "  <th>ps_ind_17_bin</th>  <td>   -0.5437</td> <td>    0.067</td> <td>   -8.142</td> <td> 0.000</td> <td>   -0.675</td> <td>   -0.413</td>\n",
       "</tr>\n",
       "<tr>\n",
       "  <th>ps_ind_18_bin</th>  <td>   -0.8021</td> <td>    0.067</td> <td>  -12.046</td> <td> 0.000</td> <td>   -0.933</td> <td>   -0.672</td>\n",
       "</tr>\n",
       "<tr>\n",
       "  <th>ps_reg_01</th>      <td>    0.5766</td> <td>    0.052</td> <td>   11.005</td> <td> 0.000</td> <td>    0.474</td> <td>    0.679</td>\n",
       "</tr>\n",
       "<tr>\n",
       "  <th>ps_reg_02</th>      <td>   -0.0452</td> <td>    0.050</td> <td>   -0.899</td> <td> 0.369</td> <td>   -0.144</td> <td>    0.053</td>\n",
       "</tr>\n",
       "<tr>\n",
       "  <th>ps_reg_03</th>      <td>    0.0567</td> <td>    0.051</td> <td>    1.108</td> <td> 0.268</td> <td>   -0.044</td> <td>    0.157</td>\n",
       "</tr>\n",
       "<tr>\n",
       "  <th>ps_car_01_cat</th>  <td>    0.0106</td> <td>    0.006</td> <td>    1.911</td> <td> 0.056</td> <td>   -0.000</td> <td>    0.021</td>\n",
       "</tr>\n",
       "<tr>\n",
       "  <th>ps_car_02_cat</th>  <td>    0.9289</td> <td>    0.064</td> <td>   14.500</td> <td> 0.000</td> <td>    0.803</td> <td>    1.054</td>\n",
       "</tr>\n",
       "<tr>\n",
       "  <th>ps_car_04_cat</th>  <td>   -0.3214</td> <td>    0.037</td> <td>   -8.586</td> <td> 0.000</td> <td>   -0.395</td> <td>   -0.248</td>\n",
       "</tr>\n",
       "<tr>\n",
       "  <th>ps_car_06_cat</th>  <td>   -0.0050</td> <td>    0.002</td> <td>   -2.133</td> <td> 0.033</td> <td>   -0.010</td> <td>   -0.000</td>\n",
       "</tr>\n",
       "<tr>\n",
       "  <th>ps_car_07_cat</th>  <td>    0.6903</td> <td>    0.101</td> <td>    6.816</td> <td> 0.000</td> <td>    0.492</td> <td>    0.889</td>\n",
       "</tr>\n",
       "<tr>\n",
       "  <th>ps_car_08_cat</th>  <td>    0.8397</td> <td>    0.050</td> <td>   16.788</td> <td> 0.000</td> <td>    0.742</td> <td>    0.938</td>\n",
       "</tr>\n",
       "<tr>\n",
       "  <th>ps_car_09_cat</th>  <td>    0.0068</td> <td>    0.014</td> <td>    0.487</td> <td> 0.626</td> <td>   -0.021</td> <td>    0.034</td>\n",
       "</tr>\n",
       "<tr>\n",
       "  <th>ps_car_10_cat</th>  <td>    1.1011</td> <td>    0.218</td> <td>    5.043</td> <td> 0.000</td> <td>    0.673</td> <td>    1.529</td>\n",
       "</tr>\n",
       "<tr>\n",
       "  <th>ps_car_11_cat</th>  <td>    0.0002</td> <td>    0.000</td> <td>    0.487</td> <td> 0.626</td> <td>   -0.001</td> <td>    0.001</td>\n",
       "</tr>\n",
       "<tr>\n",
       "  <th>ps_car_11</th>      <td>    0.0678</td> <td>    0.019</td> <td>    3.655</td> <td> 0.000</td> <td>    0.031</td> <td>    0.104</td>\n",
       "</tr>\n",
       "<tr>\n",
       "  <th>ps_car_12</th>      <td>    1.0005</td> <td>    0.422</td> <td>    2.373</td> <td> 0.018</td> <td>    0.174</td> <td>    1.827</td>\n",
       "</tr>\n",
       "<tr>\n",
       "  <th>ps_car_13</th>      <td>    0.3384</td> <td>    0.189</td> <td>    1.791</td> <td> 0.073</td> <td>   -0.032</td> <td>    0.709</td>\n",
       "</tr>\n",
       "<tr>\n",
       "  <th>ps_car_14</th>      <td>   -2.0561</td> <td>    0.389</td> <td>   -5.286</td> <td> 0.000</td> <td>   -2.818</td> <td>   -1.294</td>\n",
       "</tr>\n",
       "<tr>\n",
       "  <th>ps_car_15</th>      <td>    0.2502</td> <td>    0.033</td> <td>    7.528</td> <td> 0.000</td> <td>    0.185</td> <td>    0.315</td>\n",
       "</tr>\n",
       "<tr>\n",
       "  <th>ps_calc_01</th>     <td>   -0.0138</td> <td>    0.043</td> <td>   -0.324</td> <td> 0.746</td> <td>   -0.097</td> <td>    0.070</td>\n",
       "</tr>\n",
       "<tr>\n",
       "  <th>ps_calc_02</th>     <td>    0.0528</td> <td>    0.043</td> <td>    1.239</td> <td> 0.215</td> <td>   -0.031</td> <td>    0.136</td>\n",
       "</tr>\n",
       "<tr>\n",
       "  <th>ps_calc_03</th>     <td>    0.0512</td> <td>    0.043</td> <td>    1.202</td> <td> 0.229</td> <td>   -0.032</td> <td>    0.135</td>\n",
       "</tr>\n",
       "<tr>\n",
       "  <th>ps_calc_04</th>     <td>    0.0169</td> <td>    0.011</td> <td>    1.502</td> <td> 0.133</td> <td>   -0.005</td> <td>    0.039</td>\n",
       "</tr>\n",
       "<tr>\n",
       "  <th>ps_calc_05</th>     <td>    0.0052</td> <td>    0.011</td> <td>    0.480</td> <td> 0.632</td> <td>   -0.016</td> <td>    0.026</td>\n",
       "</tr>\n",
       "<tr>\n",
       "  <th>ps_calc_06</th>     <td>    0.0049</td> <td>    0.009</td> <td>    0.532</td> <td> 0.594</td> <td>   -0.013</td> <td>    0.023</td>\n",
       "</tr>\n",
       "<tr>\n",
       "  <th>ps_calc_07</th>     <td>    0.0051</td> <td>    0.009</td> <td>    0.585</td> <td> 0.559</td> <td>   -0.012</td> <td>    0.022</td>\n",
       "</tr>\n",
       "<tr>\n",
       "  <th>ps_calc_08</th>     <td>    0.0119</td> <td>    0.008</td> <td>    1.410</td> <td> 0.159</td> <td>   -0.005</td> <td>    0.028</td>\n",
       "</tr>\n",
       "<tr>\n",
       "  <th>ps_calc_09</th>     <td>   -0.0128</td> <td>    0.010</td> <td>   -1.301</td> <td> 0.193</td> <td>   -0.032</td> <td>    0.006</td>\n",
       "</tr>\n",
       "<tr>\n",
       "  <th>ps_calc_10</th>     <td>    0.0032</td> <td>    0.004</td> <td>    0.755</td> <td> 0.450</td> <td>   -0.005</td> <td>    0.011</td>\n",
       "</tr>\n",
       "<tr>\n",
       "  <th>ps_calc_11</th>     <td>   -0.0116</td> <td>    0.005</td> <td>   -2.184</td> <td> 0.029</td> <td>   -0.022</td> <td>   -0.001</td>\n",
       "</tr>\n",
       "<tr>\n",
       "  <th>ps_calc_12</th>     <td>   -0.0607</td> <td>    0.011</td> <td>   -5.595</td> <td> 0.000</td> <td>   -0.082</td> <td>   -0.039</td>\n",
       "</tr>\n",
       "<tr>\n",
       "  <th>ps_calc_13</th>     <td>   -0.0022</td> <td>    0.007</td> <td>   -0.301</td> <td> 0.763</td> <td>   -0.016</td> <td>    0.012</td>\n",
       "</tr>\n",
       "<tr>\n",
       "  <th>ps_calc_14</th>     <td>   -0.0050</td> <td>    0.005</td> <td>   -1.104</td> <td> 0.270</td> <td>   -0.014</td> <td>    0.004</td>\n",
       "</tr>\n",
       "<tr>\n",
       "  <th>ps_calc_15_bin</th> <td>   -0.9099</td> <td>    0.061</td> <td>  -15.036</td> <td> 0.000</td> <td>   -1.028</td> <td>   -0.791</td>\n",
       "</tr>\n",
       "<tr>\n",
       "  <th>ps_calc_16_bin</th> <td>    0.0234</td> <td>    0.025</td> <td>    0.924</td> <td> 0.356</td> <td>   -0.026</td> <td>    0.073</td>\n",
       "</tr>\n",
       "<tr>\n",
       "  <th>ps_calc_17_bin</th> <td>    0.0210</td> <td>    0.025</td> <td>    0.854</td> <td> 0.393</td> <td>   -0.027</td> <td>    0.069</td>\n",
       "</tr>\n",
       "<tr>\n",
       "  <th>ps_calc_18_bin</th> <td>   -0.0105</td> <td>    0.027</td> <td>   -0.389</td> <td> 0.697</td> <td>   -0.064</td> <td>    0.043</td>\n",
       "</tr>\n",
       "<tr>\n",
       "  <th>ps_calc_19_bin</th> <td>   -0.0279</td> <td>    0.026</td> <td>   -1.083</td> <td> 0.279</td> <td>   -0.078</td> <td>    0.023</td>\n",
       "</tr>\n",
       "<tr>\n",
       "  <th>ps_calc_20_bin</th> <td>   -1.0587</td> <td>    0.057</td> <td>  -18.505</td> <td> 0.000</td> <td>   -1.171</td> <td>   -0.947</td>\n",
       "</tr>\n",
       "</table>"
      ],
      "text/plain": [
       "<class 'statsmodels.iolib.summary.Summary'>\n",
       "\"\"\"\n",
       "                           Logit Regression Results                           \n",
       "==============================================================================\n",
       "Dep. Variable:                 target   No. Observations:               393572\n",
       "Model:                          Logit   Df Residuals:                   393518\n",
       "Method:                           MLE   Df Model:                           53\n",
       "Date:                Fri, 10 Jan 2020   Pseudo R-squ.:                 0.03466\n",
       "Time:                        18:00:11   Log-Likelihood:                -33327.\n",
       "converged:                      False   LL-Null:                       -34523.\n",
       "Covariance Type:            nonrobust   LLR p-value:                     0.000\n",
       "==================================================================================\n",
       "                     coef    std err          z      P>|z|      [0.025      0.975]\n",
       "----------------------------------------------------------------------------------\n",
       "const             -8.2067      0.352    -23.304      0.000      -8.897      -7.516\n",
       "ps_ind_01          0.0111      0.008      1.453      0.146      -0.004       0.026\n",
       "ps_ind_02_cat      0.0008      0.020      0.039      0.969      -0.039       0.041\n",
       "ps_ind_03         -0.0082      0.005     -1.643      0.100      -0.018       0.002\n",
       "ps_ind_04_cat      0.0699      0.028      2.471      0.013       0.014       0.125\n",
       "ps_ind_05_cat     -0.0876      0.012     -7.054      0.000      -0.112      -0.063\n",
       "ps_ind_07_bin      0.1911      0.034      5.690      0.000       0.125       0.257\n",
       "ps_ind_08_bin     -0.5687      0.050    -11.434      0.000      -0.666      -0.471\n",
       "ps_ind_09_bin     -0.6982      0.044    -15.942      0.000      -0.784      -0.612\n",
       "ps_ind_11_bin     -0.6046   2.43e+04  -2.49e-05      1.000   -4.76e+04    4.76e+04\n",
       "ps_ind_12_bin     -6.3390   4.08e+04     -0.000      1.000   -8.01e+04    8.01e+04\n",
       "ps_ind_13_bin     -1.6310   3.84e+04  -4.25e-05      1.000   -7.53e+04    7.53e+04\n",
       "ps_ind_14        -16.7045   2.12e+04     -0.001      0.999   -4.16e+04    4.15e+04\n",
       "ps_ind_15         -0.0283      0.004     -6.908      0.000      -0.036      -0.020\n",
       "ps_ind_16_bin      0.0003      0.047      0.006      0.995      -0.092       0.092\n",
       "ps_ind_17_bin     -0.5437      0.067     -8.142      0.000      -0.675      -0.413\n",
       "ps_ind_18_bin     -0.8021      0.067    -12.046      0.000      -0.933      -0.672\n",
       "ps_reg_01          0.5766      0.052     11.005      0.000       0.474       0.679\n",
       "ps_reg_02         -0.0452      0.050     -0.899      0.369      -0.144       0.053\n",
       "ps_reg_03          0.0567      0.051      1.108      0.268      -0.044       0.157\n",
       "ps_car_01_cat      0.0106      0.006      1.911      0.056      -0.000       0.021\n",
       "ps_car_02_cat      0.9289      0.064     14.500      0.000       0.803       1.054\n",
       "ps_car_04_cat     -0.3214      0.037     -8.586      0.000      -0.395      -0.248\n",
       "ps_car_06_cat     -0.0050      0.002     -2.133      0.033      -0.010      -0.000\n",
       "ps_car_07_cat      0.6903      0.101      6.816      0.000       0.492       0.889\n",
       "ps_car_08_cat      0.8397      0.050     16.788      0.000       0.742       0.938\n",
       "ps_car_09_cat      0.0068      0.014      0.487      0.626      -0.021       0.034\n",
       "ps_car_10_cat      1.1011      0.218      5.043      0.000       0.673       1.529\n",
       "ps_car_11_cat      0.0002      0.000      0.487      0.626      -0.001       0.001\n",
       "ps_car_11          0.0678      0.019      3.655      0.000       0.031       0.104\n",
       "ps_car_12          1.0005      0.422      2.373      0.018       0.174       1.827\n",
       "ps_car_13          0.3384      0.189      1.791      0.073      -0.032       0.709\n",
       "ps_car_14         -2.0561      0.389     -5.286      0.000      -2.818      -1.294\n",
       "ps_car_15          0.2502      0.033      7.528      0.000       0.185       0.315\n",
       "ps_calc_01        -0.0138      0.043     -0.324      0.746      -0.097       0.070\n",
       "ps_calc_02         0.0528      0.043      1.239      0.215      -0.031       0.136\n",
       "ps_calc_03         0.0512      0.043      1.202      0.229      -0.032       0.135\n",
       "ps_calc_04         0.0169      0.011      1.502      0.133      -0.005       0.039\n",
       "ps_calc_05         0.0052      0.011      0.480      0.632      -0.016       0.026\n",
       "ps_calc_06         0.0049      0.009      0.532      0.594      -0.013       0.023\n",
       "ps_calc_07         0.0051      0.009      0.585      0.559      -0.012       0.022\n",
       "ps_calc_08         0.0119      0.008      1.410      0.159      -0.005       0.028\n",
       "ps_calc_09        -0.0128      0.010     -1.301      0.193      -0.032       0.006\n",
       "ps_calc_10         0.0032      0.004      0.755      0.450      -0.005       0.011\n",
       "ps_calc_11        -0.0116      0.005     -2.184      0.029      -0.022      -0.001\n",
       "ps_calc_12        -0.0607      0.011     -5.595      0.000      -0.082      -0.039\n",
       "ps_calc_13        -0.0022      0.007     -0.301      0.763      -0.016       0.012\n",
       "ps_calc_14        -0.0050      0.005     -1.104      0.270      -0.014       0.004\n",
       "ps_calc_15_bin    -0.9099      0.061    -15.036      0.000      -1.028      -0.791\n",
       "ps_calc_16_bin     0.0234      0.025      0.924      0.356      -0.026       0.073\n",
       "ps_calc_17_bin     0.0210      0.025      0.854      0.393      -0.027       0.069\n",
       "ps_calc_18_bin    -0.0105      0.027     -0.389      0.697      -0.064       0.043\n",
       "ps_calc_19_bin    -0.0279      0.026     -1.083      0.279      -0.078       0.023\n",
       "ps_calc_20_bin    -1.0587      0.057    -18.505      0.000      -1.171      -0.947\n",
       "==================================================================================\n",
       "\"\"\""
      ]
     },
     "execution_count": 29,
     "metadata": {},
     "output_type": "execute_result"
    }
   ],
   "source": [
    "x_const=sm.add_constant(x)\n",
    "model=sm.Logit(y,x_const).fit()\n",
    "model.summary()"
   ]
  },
  {
   "cell_type": "markdown",
   "metadata": {},
   "source": [
    "#### now lets check for the multicollinearity by checking the vif values of the variables"
   ]
  },
  {
   "cell_type": "code",
   "execution_count": 31,
   "metadata": {},
   "outputs": [
    {
     "data": {
      "text/html": [
       "<div>\n",
       "<style scoped>\n",
       "    .dataframe tbody tr th:only-of-type {\n",
       "        vertical-align: middle;\n",
       "    }\n",
       "\n",
       "    .dataframe tbody tr th {\n",
       "        vertical-align: top;\n",
       "    }\n",
       "\n",
       "    .dataframe thead th {\n",
       "        text-align: right;\n",
       "    }\n",
       "</style>\n",
       "<table border=\"1\" class=\"dataframe\">\n",
       "  <thead>\n",
       "    <tr style=\"text-align: right;\">\n",
       "      <th></th>\n",
       "      <th>vif</th>\n",
       "    </tr>\n",
       "  </thead>\n",
       "  <tbody>\n",
       "    <tr>\n",
       "      <th>ps_ind_01</th>\n",
       "      <td>1.297170</td>\n",
       "    </tr>\n",
       "    <tr>\n",
       "      <th>ps_ind_02_cat</th>\n",
       "      <td>1.073935</td>\n",
       "    </tr>\n",
       "    <tr>\n",
       "      <th>ps_ind_03</th>\n",
       "      <td>1.139490</td>\n",
       "    </tr>\n",
       "    <tr>\n",
       "      <th>ps_ind_04_cat</th>\n",
       "      <td>1.287612</td>\n",
       "    </tr>\n",
       "    <tr>\n",
       "      <th>ps_ind_05_cat</th>\n",
       "      <td>1.019982</td>\n",
       "    </tr>\n",
       "    <tr>\n",
       "      <th>ps_ind_07_bin</th>\n",
       "      <td>1.565091</td>\n",
       "    </tr>\n",
       "    <tr>\n",
       "      <th>ps_ind_08_bin</th>\n",
       "      <td>1.283616</td>\n",
       "    </tr>\n",
       "    <tr>\n",
       "      <th>ps_ind_09_bin</th>\n",
       "      <td>1.296549</td>\n",
       "    </tr>\n",
       "    <tr>\n",
       "      <th>ps_ind_11_bin</th>\n",
       "      <td>9.000937</td>\n",
       "    </tr>\n",
       "    <tr>\n",
       "      <th>ps_ind_12_bin</th>\n",
       "      <td>214.908590</td>\n",
       "    </tr>\n",
       "    <tr>\n",
       "      <th>ps_ind_13_bin</th>\n",
       "      <td>4.000414</td>\n",
       "    </tr>\n",
       "    <tr>\n",
       "      <th>ps_ind_14</th>\n",
       "      <td>225.903079</td>\n",
       "    </tr>\n",
       "    <tr>\n",
       "      <th>ps_ind_15</th>\n",
       "      <td>1.308659</td>\n",
       "    </tr>\n",
       "    <tr>\n",
       "      <th>ps_ind_16_bin</th>\n",
       "      <td>2.955671</td>\n",
       "    </tr>\n",
       "    <tr>\n",
       "      <th>ps_ind_17_bin</th>\n",
       "      <td>1.982758</td>\n",
       "    </tr>\n",
       "    <tr>\n",
       "      <th>ps_ind_18_bin</th>\n",
       "      <td>2.531342</td>\n",
       "    </tr>\n",
       "    <tr>\n",
       "      <th>ps_reg_01</th>\n",
       "      <td>1.450381</td>\n",
       "    </tr>\n",
       "    <tr>\n",
       "      <th>ps_reg_02</th>\n",
       "      <td>1.995965</td>\n",
       "    </tr>\n",
       "    <tr>\n",
       "      <th>ps_reg_03</th>\n",
       "      <td>1.596521</td>\n",
       "    </tr>\n",
       "    <tr>\n",
       "      <th>ps_car_01_cat</th>\n",
       "      <td>1.170504</td>\n",
       "    </tr>\n",
       "    <tr>\n",
       "      <th>ps_car_02_cat</th>\n",
       "      <td>1.309765</td>\n",
       "    </tr>\n",
       "    <tr>\n",
       "      <th>ps_car_04_cat</th>\n",
       "      <td>1.119782</td>\n",
       "    </tr>\n",
       "    <tr>\n",
       "      <th>ps_car_06_cat</th>\n",
       "      <td>1.098388</td>\n",
       "    </tr>\n",
       "    <tr>\n",
       "      <th>ps_car_07_cat</th>\n",
       "      <td>1.014223</td>\n",
       "    </tr>\n",
       "    <tr>\n",
       "      <th>ps_car_08_cat</th>\n",
       "      <td>1.406154</td>\n",
       "    </tr>\n",
       "    <tr>\n",
       "      <th>ps_car_09_cat</th>\n",
       "      <td>1.193014</td>\n",
       "    </tr>\n",
       "    <tr>\n",
       "      <th>ps_car_10_cat</th>\n",
       "      <td>1.006624</td>\n",
       "    </tr>\n",
       "    <tr>\n",
       "      <th>ps_car_11_cat</th>\n",
       "      <td>1.023410</td>\n",
       "    </tr>\n",
       "    <tr>\n",
       "      <th>ps_car_11</th>\n",
       "      <td>1.121194</td>\n",
       "    </tr>\n",
       "    <tr>\n",
       "      <th>ps_car_12</th>\n",
       "      <td>2.526427</td>\n",
       "    </tr>\n",
       "    <tr>\n",
       "      <th>ps_car_13</th>\n",
       "      <td>5.066400</td>\n",
       "    </tr>\n",
       "    <tr>\n",
       "      <th>ps_car_14</th>\n",
       "      <td>1.390521</td>\n",
       "    </tr>\n",
       "    <tr>\n",
       "      <th>ps_car_15</th>\n",
       "      <td>2.782937</td>\n",
       "    </tr>\n",
       "    <tr>\n",
       "      <th>ps_calc_01</th>\n",
       "      <td>1.000127</td>\n",
       "    </tr>\n",
       "    <tr>\n",
       "      <th>ps_calc_02</th>\n",
       "      <td>1.000112</td>\n",
       "    </tr>\n",
       "    <tr>\n",
       "      <th>ps_calc_03</th>\n",
       "      <td>1.000120</td>\n",
       "    </tr>\n",
       "    <tr>\n",
       "      <th>ps_calc_04</th>\n",
       "      <td>1.000255</td>\n",
       "    </tr>\n",
       "    <tr>\n",
       "      <th>ps_calc_05</th>\n",
       "      <td>1.000117</td>\n",
       "    </tr>\n",
       "    <tr>\n",
       "      <th>ps_calc_06</th>\n",
       "      <td>1.000128</td>\n",
       "    </tr>\n",
       "    <tr>\n",
       "      <th>ps_calc_07</th>\n",
       "      <td>1.000151</td>\n",
       "    </tr>\n",
       "    <tr>\n",
       "      <th>ps_calc_08</th>\n",
       "      <td>1.000182</td>\n",
       "    </tr>\n",
       "    <tr>\n",
       "      <th>ps_calc_09</th>\n",
       "      <td>1.000097</td>\n",
       "    </tr>\n",
       "    <tr>\n",
       "      <th>ps_calc_10</th>\n",
       "      <td>1.000140</td>\n",
       "    </tr>\n",
       "    <tr>\n",
       "      <th>ps_calc_11</th>\n",
       "      <td>1.000280</td>\n",
       "    </tr>\n",
       "    <tr>\n",
       "      <th>ps_calc_12</th>\n",
       "      <td>1.003102</td>\n",
       "    </tr>\n",
       "    <tr>\n",
       "      <th>ps_calc_13</th>\n",
       "      <td>1.000257</td>\n",
       "    </tr>\n",
       "    <tr>\n",
       "      <th>ps_calc_14</th>\n",
       "      <td>1.000462</td>\n",
       "    </tr>\n",
       "    <tr>\n",
       "      <th>ps_calc_15_bin</th>\n",
       "      <td>1.022023</td>\n",
       "    </tr>\n",
       "    <tr>\n",
       "      <th>ps_calc_16_bin</th>\n",
       "      <td>1.000092</td>\n",
       "    </tr>\n",
       "    <tr>\n",
       "      <th>ps_calc_17_bin</th>\n",
       "      <td>1.000106</td>\n",
       "    </tr>\n",
       "    <tr>\n",
       "      <th>ps_calc_18_bin</th>\n",
       "      <td>1.000111</td>\n",
       "    </tr>\n",
       "    <tr>\n",
       "      <th>ps_calc_19_bin</th>\n",
       "      <td>1.000095</td>\n",
       "    </tr>\n",
       "    <tr>\n",
       "      <th>ps_calc_20_bin</th>\n",
       "      <td>1.026128</td>\n",
       "    </tr>\n",
       "  </tbody>\n",
       "</table>\n",
       "</div>"
      ],
      "text/plain": [
       "                       vif\n",
       "ps_ind_01         1.297170\n",
       "ps_ind_02_cat     1.073935\n",
       "ps_ind_03         1.139490\n",
       "ps_ind_04_cat     1.287612\n",
       "ps_ind_05_cat     1.019982\n",
       "ps_ind_07_bin     1.565091\n",
       "ps_ind_08_bin     1.283616\n",
       "ps_ind_09_bin     1.296549\n",
       "ps_ind_11_bin     9.000937\n",
       "ps_ind_12_bin   214.908590\n",
       "ps_ind_13_bin     4.000414\n",
       "ps_ind_14       225.903079\n",
       "ps_ind_15         1.308659\n",
       "ps_ind_16_bin     2.955671\n",
       "ps_ind_17_bin     1.982758\n",
       "ps_ind_18_bin     2.531342\n",
       "ps_reg_01         1.450381\n",
       "ps_reg_02         1.995965\n",
       "ps_reg_03         1.596521\n",
       "ps_car_01_cat     1.170504\n",
       "ps_car_02_cat     1.309765\n",
       "ps_car_04_cat     1.119782\n",
       "ps_car_06_cat     1.098388\n",
       "ps_car_07_cat     1.014223\n",
       "ps_car_08_cat     1.406154\n",
       "ps_car_09_cat     1.193014\n",
       "ps_car_10_cat     1.006624\n",
       "ps_car_11_cat     1.023410\n",
       "ps_car_11         1.121194\n",
       "ps_car_12         2.526427\n",
       "ps_car_13         5.066400\n",
       "ps_car_14         1.390521\n",
       "ps_car_15         2.782937\n",
       "ps_calc_01        1.000127\n",
       "ps_calc_02        1.000112\n",
       "ps_calc_03        1.000120\n",
       "ps_calc_04        1.000255\n",
       "ps_calc_05        1.000117\n",
       "ps_calc_06        1.000128\n",
       "ps_calc_07        1.000151\n",
       "ps_calc_08        1.000182\n",
       "ps_calc_09        1.000097\n",
       "ps_calc_10        1.000140\n",
       "ps_calc_11        1.000280\n",
       "ps_calc_12        1.003102\n",
       "ps_calc_13        1.000257\n",
       "ps_calc_14        1.000462\n",
       "ps_calc_15_bin    1.022023\n",
       "ps_calc_16_bin    1.000092\n",
       "ps_calc_17_bin    1.000106\n",
       "ps_calc_18_bin    1.000111\n",
       "ps_calc_19_bin    1.000095\n",
       "ps_calc_20_bin    1.026128"
      ]
     },
     "execution_count": 31,
     "metadata": {},
     "output_type": "execute_result"
    }
   ],
   "source": [
    "from statsmodels.stats.outliers_influence import variance_inflation_factor\n",
    "\n",
    "vif = [variance_inflation_factor(x_const.values, i) for i in range(x_const.shape[1])]\n",
    "pd.DataFrame({'vif': vif[1:]}, index=x.columns)"
   ]
  },
  {
   "cell_type": "code",
   "execution_count": null,
   "metadata": {},
   "outputs": [],
   "source": []
  },
  {
   "cell_type": "code",
   "execution_count": 98,
   "metadata": {},
   "outputs": [],
   "source": [
    "yprob=result.predict(x_const)"
   ]
  },
  {
   "cell_type": "code",
   "execution_count": 112,
   "metadata": {},
   "outputs": [],
   "source": [
    "ypred=yprob.apply(lambda x:0 if x<0.2 else 1)"
   ]
  },
  {
   "cell_type": "code",
   "execution_count": 113,
   "metadata": {},
   "outputs": [
    {
     "name": "stdout",
     "output_type": "stream",
     "text": [
      "[[573467     51]\n",
      " [ 21680     14]]\n"
     ]
    }
   ],
   "source": [
    "print(confusion_matrix(y,ypred))"
   ]
  },
  {
   "cell_type": "code",
   "execution_count": 114,
   "metadata": {},
   "outputs": [
    {
     "name": "stdout",
     "output_type": "stream",
     "text": [
      "              precision    recall  f1-score   support\n",
      "\n",
      "         0.0       0.96      1.00      0.98    573518\n",
      "         1.0       0.22      0.00      0.00     21694\n",
      "\n",
      "    accuracy                           0.96    595212\n",
      "   macro avg       0.59      0.50      0.49    595212\n",
      "weighted avg       0.94      0.96      0.95    595212\n",
      "\n"
     ]
    }
   ],
   "source": [
    "print(classification_report(y,ypred))"
   ]
  },
  {
   "cell_type": "code",
   "execution_count": 110,
   "metadata": {},
   "outputs": [
    {
     "data": {
      "text/plain": [
       "array([0.32854108, 0.32854108, 0.26547753, ..., 0.00878909, 0.00876319,\n",
       "       0.00783803])"
      ]
     },
     "execution_count": 110,
     "metadata": {},
     "output_type": "execute_result"
    }
   ],
   "source": [
    "fpr,tpr,thresh=roc_curve(y,yprob)\n",
    "thresh[0]=thresh[0]-1\n",
    "thresh"
   ]
  },
  {
   "cell_type": "code",
   "execution_count": 111,
   "metadata": {},
   "outputs": [
    {
     "data": {
      "image/png": "[encoded data removed]",
      "text/plain": [
       "<Figure size 432x288 with 1 Axes>"
      ]
     },
     "metadata": {
      "needs_background": "light"
     },
     "output_type": "display_data"
    }
   ],
   "source": [
    "plt.plot(fpr,tpr)\n",
    "plt.plot(fpr,fpr,'-r')\n",
    "plt.plot(fpr,thresh,'g')\n",
    "plt.show()"
   ]
  },
  {
   "cell_type": "markdown",
   "metadata": {},
   "source": [
    "### model building-Machine Learning"
   ]
  },
  {
   "cell_type": "code",
   "execution_count": 81,
   "metadata": {},
   "outputs": [],
   "source": [
    "xtrain,xtest,ytrain,ytest=train_test_split(x,y,test_size=0.33,random_state=1)"
   ]
  },
  {
   "cell_type": "code",
   "execution_count": 82,
   "metadata": {},
   "outputs": [
    {
     "name": "stdout",
     "output_type": "stream",
     "text": [
      "Accuracy score of train: 0.9911407450500511\n",
      "Accuracy score of test: 0.963720598717035\n",
      "*****************************************************************\n",
      "AUC of train: 0.9999253627755759\n",
      "AUC of test: 0.5323722670251471\n"
     ]
    }
   ],
   "source": [
    "from sklearn.ensemble import RandomForestClassifier as RFC\n",
    "rfc=RFC(n_estimators=10,random_state=1)\n",
    "rfc.fit(xtrain,ytrain)\n",
    "ytrain_prob=rfc.predict_proba(xtrain)[:,1]  ##taking the probability of one\n",
    "ytest_prob=rfc.predict_proba(xtest)[:,1]\n",
    "\n",
    "ytrain_pred=rfc.predict(xtrain)\n",
    "ytest_pred=rfc.predict(xtest)\n",
    "print('Accuracy score of train:',accuracy_score(ytrain,ytrain_pred))\n",
    "print('Accuracy score of test:',accuracy_score(ytest,ytest_pred))\n",
    "print('*****************************************************************')\n",
    "print('AUC of train:',roc_auc_score(ytrain,ytrain_prob))\n",
    "print('AUC of test:',roc_auc_score(ytest,ytest_prob))"
   ]
  },
  {
   "cell_type": "code",
   "execution_count": 84,
   "metadata": {},
   "outputs": [
    {
     "name": "stdout",
     "output_type": "stream",
     "text": [
      "{'max_depth': 39, 'min_samples_leaf': 14, 'min_samples_split': 74, 'n_estimators': 14}\n"
     ]
    }
   ],
   "source": [
    "from scipy.stats import randint as sp_randint\n",
    "rfc=RFC(random_state=1)\n",
    "parameters={'n_estimators':sp_randint(5,100),\n",
    "            'max_depth':sp_randint(2,40),\n",
    "             'min_samples_split':sp_randint(2,100),\n",
    "             'min_samples_leaf':sp_randint(2,100)}\n",
    "randsearch=RandomizedSearchCV(rfc,param_distributions=parameters,cv=3,random_state=1)\n",
    "randsearch.fit(x,y)\n",
    "print(randsearch.best_params_)"
   ]
  },
  {
   "cell_type": "code",
   "execution_count": 85,
   "metadata": {},
   "outputs": [
    {
     "name": "stdout",
     "output_type": "stream",
     "text": [
      "Accuracy score of train: 0.9634571405645048\n",
      "Accuracy score of test: 0.9637460543732818\n",
      "*****************************************************************\n",
      "AUC of train: 0.9397228217834842\n",
      "AUC of test: 0.5934689530467088\n"
     ]
    }
   ],
   "source": [
    "rfc=RFC(**randsearch.best_params_,random_state=1)\n",
    "rfc.fit(xtrain,ytrain)\n",
    "ytrain_prob=rfc.predict_proba(xtrain)[:,1]  ##taking the probability of one\n",
    "ytest_prob=rfc.predict_proba(xtest)[:,1]\n",
    "\n",
    "ytrain_pred=rfc.predict(xtrain)\n",
    "ytest_pred=rfc.predict(xtest)\n",
    "print('Accuracy score of train:',accuracy_score(ytrain,ytrain_pred))\n",
    "print('Accuracy score of test:',accuracy_score(ytest,ytest_pred))\n",
    "print('*****************************************************************')\n",
    "print('AUC of train:',roc_auc_score(ytrain,ytrain_prob))\n",
    "print('AUC of test:',roc_auc_score(ytest,ytest_prob))"
   ]
  },
  {
   "cell_type": "code",
   "execution_count": 88,
   "metadata": {},
   "outputs": [],
   "source": [
    "y_pred=rfc.predict(x)"
   ]
  },
  {
   "cell_type": "code",
   "execution_count": 89,
   "metadata": {},
   "outputs": [
    {
     "name": "stdout",
     "output_type": "stream",
     "text": [
      "[[573518      0]\n",
      " [ 21694      0]]\n"
     ]
    }
   ],
   "source": [
    "print(confusion_matrix(y,y_pred))"
   ]
  },
  {
   "cell_type": "code",
   "execution_count": null,
   "metadata": {},
   "outputs": [],
   "source": []
  }
 ],
 "metadata": {
  "kernelspec": {
   "display_name": "Python 3",
   "language": "python",
   "name": "python3"
  },
  "language_info": {
   "codemirror_mode": {
    "name": "ipython",
    "version": 3
   },
   "file_extension": ".py",
   "mimetype": "text/x-python",
   "name": "python",
   "nbconvert_exporter": "python",
   "pygments_lexer": "ipython3",
   "version": "3.7.3"
  }
 },
 "nbformat": 4,
 "nbformat_minor": 2
}
